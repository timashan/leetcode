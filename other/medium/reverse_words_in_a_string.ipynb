{
 "cells": [
  {
   "cell_type": "markdown",
   "metadata": {},
   "source": [
    "# Reverse Words in a String\n",
    "\n",
    "[leetcode](https://leetcode.com/problems/reverse-words-in-a-string)\n",
    "\n",
    "Given an input string `s`, reverse the order of the words.\n",
    "\n",
    "A word is defined as a sequence of non-space characters. The words in `s` will be separated by at least one space.\n",
    "\n",
    "Return a string of the words in reverse order concatenated by a single space.\n",
    "\n",
    "Note that `s` may contain leading or trailing spaces or multiple spaces between two words. The returned string should only have a single space separating the words. Do not include any extra spaces.\n",
    "\n",
    "**Example 1:**\n",
    "\n",
    "```py\n",
    "Input: s = \"the sky is blue\"\n",
    "Output: \"blue is sky the\"\n",
    "```\n",
    "\n",
    "**Example 2:**\n",
    "\n",
    "```py\n",
    "Input: s = \" hello world \"\n",
    "Output: \"world hello\"\n",
    "```\n",
    "\n",
    "Explanation: Your reversed string should not contain leading or trailing spaces.\n",
    "\n",
    "**Example 3:**\n",
    "\n",
    "```py\n",
    "Input: s = \"a good example\"\n",
    "Output: \"example good a\"\n",
    "```\n",
    "\n",
    "Explanation: You need to reduce multiple spaces between two words to a single space in the reversed string.\n",
    "\n",
    "**Constraints:**\n",
    "\n",
    "- `1 <= s.length <= 104`\n",
    "- `s` contains English letters (upper-case and lower-case), digits, and spaces `' '`.\n",
    "- There is at least one word in `s`.\n",
    "\n",
    "Follow-up: If the string data type is mutable in your language, can you solve it in-place with `O(1)` extra space?\n"
   ]
  },
  {
   "cell_type": "code",
   "execution_count": null,
   "metadata": {},
   "outputs": [
    {
     "data": {
      "text/plain": [
       "'example good a'"
      ]
     },
     "execution_count": null,
     "metadata": {},
     "output_type": "execute_result"
    }
   ],
   "source": [
    "def reverseWords(s: str) -> str:\n",
    "    return \" \".join([w for w in s.split(\" \") if w][::-1])\n",
    "\n",
    "\n",
    "reverseWords(\"a good   example\")"
   ]
  }
 ],
 "metadata": {
  "kernelspec": {
   "display_name": "Python 3",
   "language": "python",
   "name": "python3"
  },
  "language_info": {
   "codemirror_mode": {
    "name": "ipython",
    "version": 3
   },
   "file_extension": ".py",
   "mimetype": "text/x-python",
   "name": "python",
   "nbconvert_exporter": "python",
   "pygments_lexer": "ipython3",
   "version": "3.11.5"
  }
 },
 "nbformat": 4,
 "nbformat_minor": 2
}
