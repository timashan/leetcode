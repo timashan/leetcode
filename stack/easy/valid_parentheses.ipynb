{
 "cells": [
  {
   "cell_type": "markdown",
   "metadata": {},
   "source": [
    "# Valid Parentheses\n",
    "\n",
    "[leetcode](https://leetcode.com/problems/valid-parentheses/description/) [neetcode](https://neetcode.io/problems/validate-parentheses)\n",
    "\n",
    "Given a string s containing just the characters '(', ')', '{', '}', '[' and ']', determine if the input string is valid.\n",
    "\n",
    "An input string is valid if:\n",
    "\n",
    "Open brackets must be closed by the same type of brackets.\n",
    "Open brackets must be closed in the correct order.\n",
    "Every close bracket has a corresponding open bracket of the same type.\n",
    "\n",
    "Example 1:\n",
    "\n",
    "```bash\n",
    "Input: s = \"()\"\n",
    "Output: true\n",
    "```\n",
    "\n",
    "Example 2:\n",
    "\n",
    "```bash\n",
    "Input: s = \"()[]{}\"\n",
    "Output: true\n",
    "```\n",
    "\n",
    "Example 3:\n",
    "\n",
    "```bash\n",
    "Input: s = \"(]\"\n",
    "Output: false\n",
    "```\n",
    "\n",
    "Constraints:\n",
    "\n",
    "1 <= s.length <= 104\n",
    "s consists of parentheses only '()[]{}'.\n"
   ]
  },
  {
   "cell_type": "code",
   "execution_count": null,
   "metadata": {},
   "outputs": [
    {
     "data": {
      "text/plain": [
       "True"
      ]
     },
     "execution_count": null,
     "metadata": {},
     "output_type": "execute_result"
    }
   ],
   "source": [
    "def isValid(s: str) -> bool:\n",
    "    brackets = {\"(\": \")\", \"[\": \"]\", \"{\": \"}\"}\n",
    "    s += \" \"\n",
    "    if s[0] in brackets.values():\n",
    "        return False\n",
    "\n",
    "    validator = []\n",
    "    for i, b in enumerate(s[1:]):\n",
    "        a = s[i]\n",
    "\n",
    "        if a in brackets.keys():\n",
    "            validator.append(a)\n",
    "\n",
    "        if b in brackets.values():\n",
    "            if not validator:\n",
    "                return False\n",
    "            elif brackets[validator[-1]] == b:\n",
    "                validator.pop()\n",
    "            else:\n",
    "                return False\n",
    "\n",
    "    if len(validator):\n",
    "        return False\n",
    "    return True\n",
    "\n",
    "\n",
    "isValid(\"[{}()]\")"
   ]
  },
  {
   "cell_type": "code",
   "execution_count": null,
   "metadata": {},
   "outputs": [
    {
     "data": {
      "text/plain": [
       "True"
      ]
     },
     "execution_count": null,
     "metadata": {},
     "output_type": "execute_result"
    }
   ],
   "source": [
    "def isValid(s: str) -> bool:\n",
    "    brackets = {\")\": \"(\", \"]\": \"[\", \"}\": \"{\"}\n",
    "    stack = []\n",
    "\n",
    "    for c in s:\n",
    "        if c not in brackets:  # add start tags\n",
    "            stack.append(c)\n",
    "\n",
    "        if c in brackets:\n",
    "            if stack and stack[-1] == brackets[c]:\n",
    "                stack.pop()\n",
    "            else:\n",
    "                return False\n",
    "\n",
    "    return False if stack else True\n",
    "\n",
    "\n",
    "isValid(\"[(()){}]\")"
   ]
  },
  {
   "cell_type": "markdown",
   "metadata": {},
   "source": [
    "## Validation\n"
   ]
  },
  {
   "cell_type": "code",
   "execution_count": null,
   "metadata": {},
   "outputs": [
    {
     "data": {
      "text/plain": [
       "True"
      ]
     },
     "execution_count": null,
     "metadata": {},
     "output_type": "execute_result"
    }
   ],
   "source": [
    "all(\n",
    "    [\n",
    "        isValid(\"[{}]\") is True,\n",
    "        isValid(\"[\") is False,\n",
    "        isValid(\"]\") is False,\n",
    "        isValid(\"(){}}{\") is False,\n",
    "        isValid(\"())\") is False,\n",
    "        isValid(\"(([]){})\") is True,\n",
    "    ]\n",
    ")"
   ]
  }
 ],
 "metadata": {
  "kernelspec": {
   "display_name": "Python 3",
   "language": "python",
   "name": "python3"
  },
  "language_info": {
   "codemirror_mode": {
    "name": "ipython",
    "version": 3
   },
   "file_extension": ".py",
   "mimetype": "text/x-python",
   "name": "python",
   "nbconvert_exporter": "python",
   "pygments_lexer": "ipython3",
   "version": "3.11.5"
  }
 },
 "nbformat": 4,
 "nbformat_minor": 2
}
