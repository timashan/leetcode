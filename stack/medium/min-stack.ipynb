{
 "cells": [
  {
   "cell_type": "markdown",
   "metadata": {},
   "source": [
    "# Min Stack\n",
    "\n",
    "[leetcode](https://leetcode.com/problems/min-stack/) [neetcode](https://neetcode.io/problems/minimum-stack)\n",
    "\n",
    "Design a stack that supports push, pop, top, and retrieving the minimum element in constant time.\n",
    "\n",
    "Implement the `MinStack` class:\n",
    "\n",
    "- `MinStack()` initializes the stack object.\n",
    "- `void push(int val)` pushes the element `val` onto the stack.\n",
    "- `void pop()` removes the element on the top of the stack.\n",
    "- `int top()` gets the top element of the stack.\n",
    "- `int getMin()` retrieves the minimum element in the stack.\n",
    "- You must implement a solution with `O(1)` time complexity for each function.\n",
    "\n",
    "Example 1:\n",
    "\n",
    "```bash\n",
    "Input\n",
    "[\"MinStack\",\"push\",\"push\",\"push\",\"getMin\",\"pop\",\"top\",\"getMin\"]\n",
    "[[],[-2],[0],[-3],[],[],[],[]]\n",
    "\n",
    "Output\n",
    "[null,null,null,null,-3,null,0,-2]\n",
    "\n",
    "Explanation\n",
    "MinStack minStack = new MinStack();\n",
    "minStack.push(-2);\n",
    "minStack.push(0);\n",
    "minStack.push(-3);\n",
    "minStack.getMin(); // return -3\n",
    "minStack.pop();\n",
    "minStack.top(); // return 0\n",
    "minStack.getMin(); // return -2\n",
    "```\n",
    "\n",
    "### Constraints:\n",
    "\n",
    "- `-231 <= val <= 231 - 1`\n",
    "- Methods `pop`, `top` and `getMin` operations will always be called on non-empty stacks.\n",
    "- At most `3 \\* 104` calls will be made to `push`, `pop`, `top`, and `getMin`.\n"
   ]
  },
  {
   "cell_type": "code",
   "execution_count": null,
   "metadata": {},
   "outputs": [],
   "source": [
    "class MinStack:\n",
    "    def __init__(self):\n",
    "        pass\n",
    "\n",
    "    def push(self, val: int) -> None:\n",
    "        pass\n",
    "\n",
    "    def pop(self) -> None:\n",
    "        pass\n",
    "\n",
    "    def top(self) -> int:\n",
    "        pass\n",
    "\n",
    "    def getMin(self) -> int:\n",
    "        pass\n",
    "\n",
    "\n",
    "# Your MinStack object will be instantiated and called as such:\n",
    "# obj = MinStack()\n",
    "# obj.push(val)\n",
    "# obj.pop()\n",
    "# param_3 = obj.top()\n",
    "# param_4 = obj.getMin()"
   ]
  }
 ],
 "metadata": {
  "language_info": {
   "name": "python"
  }
 },
 "nbformat": 4,
 "nbformat_minor": 2
}
