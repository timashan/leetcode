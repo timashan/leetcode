{
 "cells": [
  {
   "cell_type": "markdown",
   "metadata": {},
   "source": [
    "# Contains Duplicates\n",
    "\n",
    "Given an integer array nums, return true if any value appears at least twice in the array, and return false if every element is distinct.\n",
    "\n",
    "Example 1:\n",
    "\n",
    "```bash\n",
    "Input: nums = [1,2,3,1]\n",
    "Output: true\n",
    "```\n",
    "\n",
    "Example 2:\n",
    "\n",
    "```bash\n",
    "Input: nums = [1,2,3,4]\n",
    "Output: false\n",
    "```\n",
    "\n",
    "Example 3:\n",
    "\n",
    "```bash\n",
    "Input: nums = [1,1,1,3,3,4,3,2,4,2]\n",
    "Output: true\n",
    "```\n",
    "\n",
    "Constraints:\\\n",
    "1 <= nums.length <= 105\\\n",
    "-109 <= nums[i] <= 109\n"
   ]
  },
  {
   "cell_type": "code",
   "execution_count": null,
   "metadata": {},
   "outputs": [],
   "source": [
    "from typing import List\n",
    "\n",
    "nums = [8, 1, 6, 1]\n",
    "out = True"
   ]
  },
  {
   "cell_type": "code",
   "execution_count": null,
   "metadata": {},
   "outputs": [],
   "source": [
    "# HashSet\n",
    "# time: O(n), space: O(n)\n",
    "def contain_dup(nums: List[int]) -> bool:\n",
    "    hashset = set()\n",
    "\n",
    "    for n in nums:\n",
    "        if n in hashset:\n",
    "            return True\n",
    "        hashset.add(n)\n",
    "    return False\n",
    "\n",
    "\n",
    "contain_dup(nums) == out"
   ]
  },
  {
   "cell_type": "code",
   "execution_count": null,
   "metadata": {},
   "outputs": [],
   "source": [
    "# Sorting\n",
    "# time: O(nlogn), space: O(1)\n",
    "def contain_dup(nums: List[int]) -> bool:\n",
    "    nums.sort()\n",
    "    for i, n in enumerate(nums[1:]):\n",
    "        if nums[i] == n:\n",
    "            return True\n",
    "    return False\n",
    "\n",
    "\n",
    "contain_dup(nums) == out"
   ]
  },
  {
   "cell_type": "code",
   "execution_count": null,
   "metadata": {},
   "outputs": [],
   "source": [
    "# Brute Force\n",
    "# time: O(n^2), space: O(1)\n",
    "def contain_dup(nums: List[int]) -> bool:\n",
    "    for i1, n in enumerate(nums):\n",
    "        for i2, k in enumerate(nums):\n",
    "            if i1 == i2:\n",
    "                continue\n",
    "            if n == k:\n",
    "                return True\n",
    "        return False\n",
    "\n",
    "\n",
    "contain_dup(nums) == out"
   ]
  },
  {
   "cell_type": "code",
   "execution_count": null,
   "metadata": {},
   "outputs": [],
   "source": [
    "# time: O(n^2), space: O(n)\n",
    "def contain_dup(nums: List[int]) -> bool:\n",
    "    temp = []\n",
    "\n",
    "    for n in nums:\n",
    "        if n in temp:\n",
    "            return True\n",
    "        temp.append(n)\n",
    "    return False\n",
    "\n",
    "\n",
    "contain_dup(nums) == out"
   ]
  }
 ],
 "metadata": {
  "kernelspec": {
   "display_name": "Python 3 (ipykernel)",
   "language": "python",
   "name": "python3"
  },
  "language_info": {
   "codemirror_mode": {
    "name": "ipython",
    "version": 3
   },
   "file_extension": ".py",
   "mimetype": "text/x-python",
   "name": "python",
   "nbconvert_exporter": "python",
   "pygments_lexer": "ipython3",
   "version": "3.11.5"
  },
  "vscode": {
   "interpreter": {
    "hash": "8f759f4f95e065f4c97e7e702a5dc263c7b36aceec7db42c676b0544daa732d4"
   }
  }
 },
 "nbformat": 4,
 "nbformat_minor": 2
}
