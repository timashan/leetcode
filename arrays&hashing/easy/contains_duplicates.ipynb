{
 "cells": [
  {
   "cell_type": "markdown",
   "metadata": {},
   "source": [
    "Given an integer array nums, return true if any value appears at least twice in the array, and return false if every element is distinct.\n",
    "\n",
    "Example 1:\n",
    "> Input: nums = [1,2,3,1]\\\n",
    "Output: true\n",
    "\n",
    "Example 2:\n",
    "> Input: nums = [1,2,3,4]\\\n",
    "Output: false\n",
    "\n",
    "Example 3:\n",
    "> Input: nums = [1,1,1,3,3,4,3,2,4,2]\\\n",
    "Output: true\n",
    "\n",
    "Constraints:\\\n",
    "1 <= nums.length <= 105\\\n",
    "-109 <= nums[i] <= 109"
   ]
  },
  {
   "cell_type": "code",
   "execution_count": 7,
   "metadata": {},
   "outputs": [],
   "source": [
    "from typing import List\n",
    "\n",
    "input_ = [8,1,6,1]"
   ]
  },
  {
   "cell_type": "code",
   "execution_count": 8,
   "metadata": {},
   "outputs": [
    {
     "data": {
      "text/plain": [
       "True"
      ]
     },
     "execution_count": 8,
     "metadata": {},
     "output_type": "execute_result"
    }
   ],
   "source": [
    "# HashSet\n",
    "# time: O(n), space: O(n)\n",
    "def contain_dup(nums: List[int]) -> bool:\n",
    "    hashset = set()\n",
    "\n",
    "    for n in nums:\n",
    "        if n in hashset:\n",
    "            return True\n",
    "        hashset.add(n)\n",
    "    return False\n",
    "\n",
    "contain_dup(input_)"
   ]
  },
  {
   "cell_type": "code",
   "execution_count": 9,
   "metadata": {},
   "outputs": [
    {
     "data": {
      "text/plain": [
       "True"
      ]
     },
     "execution_count": 9,
     "metadata": {},
     "output_type": "execute_result"
    }
   ],
   "source": [
    "# Sorting\n",
    "# time: O(nlogn), space: O(1)\n",
    "def contain_dup(nums: List[int]) -> bool:\n",
    "    nums.sort()\n",
    "    temp = nums[0]\n",
    "\n",
    "    for n in nums[1:]:\n",
    "        if n == temp:\n",
    "            return True\n",
    "        temp = n\n",
    "    return False\n",
    "\n",
    "contain_dup(input_)"
   ]
  },
  {
   "cell_type": "code",
   "execution_count": 10,
   "metadata": {},
   "outputs": [
    {
     "data": {
      "text/plain": [
       "True"
      ]
     },
     "execution_count": 10,
     "metadata": {},
     "output_type": "execute_result"
    }
   ],
   "source": [
    "# Brute Force\n",
    "# time: O(n^2), space: O(1)\n",
    "def contain_dup(nums: List[int]) -> bool:\n",
    "    for i1, n in enumerate(nums):\n",
    "        for i2, k in enumerate(nums):\n",
    "            if i1 == i2:\n",
    "                continue\n",
    "            if n==k:\n",
    "                return True\n",
    "        return False\n",
    "\n",
    "contain_dup(input_)"
   ]
  },
  {
   "cell_type": "code",
   "execution_count": 11,
   "metadata": {},
   "outputs": [],
   "source": [
    "# time: O(n^2), space: O(n)\n",
    "# def contain_dup(nums: List[int]) -> bool:\n",
    "#     temp = []\n",
    "\n",
    "#     for n in nums:\n",
    "#         if n in temp:\n",
    "#             return True\n",
    "#         temp.append(n)\n",
    "#     return False\n",
    "\n",
    "# contain_dup(input_)"
   ]
  }
 ],
 "metadata": {
  "kernelspec": {
   "display_name": "Python 3 (ipykernel)",
   "language": "python",
   "name": "python3"
  },
  "language_info": {
   "codemirror_mode": {
    "name": "ipython",
    "version": 3
   },
   "file_extension": ".py",
   "mimetype": "text/x-python",
   "name": "python",
   "nbconvert_exporter": "python",
   "pygments_lexer": "ipython3",
   "version": "3.9.12"
  },
  "vscode": {
   "interpreter": {
    "hash": "8f759f4f95e065f4c97e7e702a5dc263c7b36aceec7db42c676b0544daa732d4"
   }
  }
 },
 "nbformat": 4,
 "nbformat_minor": 2
}
