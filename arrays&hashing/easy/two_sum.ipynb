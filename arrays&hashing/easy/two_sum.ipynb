{
 "cells": [
  {
   "cell_type": "markdown",
   "id": "092403f4",
   "metadata": {},
   "source": [
    "Given an array of integers nums and an integer target, return indices of the two numbers such that they add up to target.\n",
    "\n",
    "You may assume that each input would have exactly one solution, and you may not use the same element twice.\n",
    "\n",
    "You can return the answer in any order.\n",
    "\n",
    "Example 1:\n",
    "\n",
    "```bash\n",
    "Input: nums = [2,7,11,15], target = 9\n",
    "Output: [0,1]\n",
    "Explanation: Because nums[0] + nums[1] == 9, we return [0, 1].\n",
    "```\n",
    "\n",
    "Example 2:\n",
    "\n",
    "```bash\n",
    "Input: nums = [3,2,4], target = 6\n",
    "Output: [1,2]\n",
    "```\n",
    "\n",
    "Example 3:\n",
    "\n",
    "```bash\n",
    "Input: nums = [3,3], target = 6\n",
    "Output: [0,1]\n",
    "```\n",
    "\n",
    "Constraints:\n",
    "\n",
    "2 <= nums.length <= 104\\\n",
    "-109 <= nums[i] <= 109\\\n",
    "-109 <= target <= 109\\\n",
    "Only one valid answer exists.\n",
    "\n",
    "Follow-up: Can you come up with an algorithm that is less than O(n2) time complexity?\n"
   ]
  },
  {
   "cell_type": "code",
   "execution_count": null,
   "id": "6dae43c0",
   "metadata": {},
   "outputs": [],
   "source": [
    "from typing import List\n",
    "\n",
    "nums = [2, 7, 11, 15]\n",
    "target = 9\n",
    "out = [0, 1]"
   ]
  },
  {
   "cell_type": "code",
   "execution_count": null,
   "id": "2f5d9961",
   "metadata": {},
   "outputs": [],
   "source": [
    "# time: O(n), space: O(n)\n",
    "def two_sum(nums: List[int], target: int) -> List[int]:\n",
    "    prevMap = {}\n",
    "\n",
    "    for i, n in enumerate(nums):\n",
    "        diff = target - n\n",
    "        if diff in prevMap:\n",
    "            return [prevMap[diff], i]\n",
    "        prevMap[n] = i\n",
    "\n",
    "\n",
    "two_sum(nums, target) == out"
   ]
  },
  {
   "cell_type": "code",
   "execution_count": null,
   "id": "9a75288a",
   "metadata": {},
   "outputs": [],
   "source": [
    "# Brute force\n",
    "# time: O(n^2)\n",
    "def two_sum(nums: List[int], target: int) -> List[int]:\n",
    "    for i1, n in enumerate(nums):\n",
    "        for i2, m in enumerate(nums[i1 + 1 :]):\n",
    "            if n + m == target:\n",
    "                return [i1, i2 + i1 + 1]\n",
    "\n",
    "\n",
    "two_sum(nums, target) == out"
   ]
  }
 ],
 "metadata": {
  "kernelspec": {
   "display_name": "Python 3 (ipykernel)",
   "language": "python",
   "name": "python3"
  },
  "language_info": {
   "codemirror_mode": {
    "name": "ipython",
    "version": 3
   },
   "file_extension": ".py",
   "mimetype": "text/x-python",
   "name": "python",
   "nbconvert_exporter": "python",
   "pygments_lexer": "ipython3",
   "version": "3.11.5"
  }
 },
 "nbformat": 4,
 "nbformat_minor": 5
}
