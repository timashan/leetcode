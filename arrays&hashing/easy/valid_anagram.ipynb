{
 "cells": [
  {
   "cell_type": "markdown",
   "id": "ba34445e",
   "metadata": {},
   "source": [
    "Given two strings s and t, return true if t is an anagram of s, and false otherwise.\n",
    "\n",
    "An Anagram is a word or phrase formed by rearranging the letters of a different word or phrase, typically using all the original letters exactly once.\n",
    "\n",
    " \n",
    "\n",
    "Example 1:\n",
    "\n",
    "> Input: s = \"anagram\", t = \"nagaram\"\\\n",
    "Output: true\n",
    "Example 2:\n",
    "\n",
    "> Input: s = \"rat\", t = \"car\"\\\n",
    "Output: false\n",
    " \n",
    "\n",
    "Constraints:\n",
    "\n",
    "1 <= s.length, t.length <= 5 * 104\\\n",
    "s and t consist of lowercase English letters.\n",
    " \n",
    "\n",
    "Follow up: What if the inputs contain Unicode characters? How would you adapt your solution to such a case?"
   ]
  },
  {
   "cell_type": "code",
   "execution_count": 1,
   "id": "57863f56",
   "metadata": {},
   "outputs": [],
   "source": [
    "from collections import Counter\n",
    "\n",
    "s1 = \"anagram\"\n",
    "s2 = \"nagaram\""
   ]
  },
  {
   "cell_type": "code",
   "execution_count": 2,
   "id": "161c2b30",
   "metadata": {},
   "outputs": [
    {
     "data": {
      "text/plain": [
       "True"
      ]
     },
     "execution_count": 2,
     "metadata": {},
     "output_type": "execute_result"
    }
   ],
   "source": [
    "# time: O(n) / O(S+T)\n",
    "def is_anagram(s:str, t:str) -> bool:\n",
    "    if len(s1) != len(s2):\n",
    "        return False\n",
    "    \n",
    "    countS, countT = {}, {}\n",
    "    \n",
    "    for i in range(len(s)):\n",
    "        countS[s[i]] = 1 + countS.get(s[i],0)\n",
    "        countT[t[i]] = 1 + countT.get(t[i],0)\n",
    "        \n",
    "    for c in countS:\n",
    "        if countS[c] != countT.get(c,0):\n",
    "            return False\n",
    "        \n",
    "    return True\n",
    "    \n",
    "is_anagram(s1, s2)"
   ]
  },
  {
   "cell_type": "code",
   "execution_count": 3,
   "id": "c3c34e8a",
   "metadata": {},
   "outputs": [
    {
     "data": {
      "text/plain": [
       "True"
      ]
     },
     "execution_count": 3,
     "metadata": {},
     "output_type": "execute_result"
    }
   ],
   "source": [
    "def is_anagram(s:str, t:str) -> bool:\n",
    "    return Counter(s) == Counter(t)\n",
    "    \n",
    "is_anagram(s1, s2)"
   ]
  },
  {
   "cell_type": "code",
   "execution_count": 4,
   "id": "a1c6aa24",
   "metadata": {},
   "outputs": [
    {
     "data": {
      "text/plain": [
       "True"
      ]
     },
     "execution_count": 4,
     "metadata": {},
     "output_type": "execute_result"
    }
   ],
   "source": [
    "# time: (nlogn), memory: o(1)\n",
    "def is_anagram(s:str, t:str) -> bool:\n",
    "    return sorted(s) == sorted(t)\n",
    "\n",
    "is_anagram(s1, s2)"
   ]
  }
 ],
 "metadata": {
  "kernelspec": {
   "display_name": "Python 3 (ipykernel)",
   "language": "python",
   "name": "python3"
  },
  "language_info": {
   "codemirror_mode": {
    "name": "ipython",
    "version": 3
   },
   "file_extension": ".py",
   "mimetype": "text/x-python",
   "name": "python",
   "nbconvert_exporter": "python",
   "pygments_lexer": "ipython3",
   "version": "3.9.12"
  }
 },
 "nbformat": 4,
 "nbformat_minor": 5
}
