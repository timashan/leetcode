{
 "cells": [
  {
   "cell_type": "markdown",
   "id": "ba81f923",
   "metadata": {},
   "source": [
    "# Product Of Array Except Self\n",
    "\n",
    "Given an integer array nums, return an array answer such that answer[i] is equal to the product of all the elements of nums except nums[i].\n",
    "\n",
    "The product of any prefix or suffix of nums is guaranteed to fit in a 32-bit integer.\n",
    "\n",
    "You must write an algorithm that runs in O(n) time and without using the division operation.\n",
    "\n",
    "Example 1:\n",
    "\n",
    "```bash\n",
    "Input: nums = [1,2,3,4]\n",
    "Output: [24,12,8,6]\n",
    "```\n",
    "\n",
    "Example 2:\n",
    "\n",
    "```bash\n",
    "Input: nums = [-1,1,0,-3,3]\n",
    "Output: [0,0,9,0,0]\n",
    "```\n",
    "\n",
    "Constraints:\n",
    "\n",
    "2 <= nums.length <= 105\\\n",
    "-30 <= nums[i] <= 30\\\n",
    "The product of any prefix or suffix of nums is guaranteed to fit in a 32-bit integer.\n",
    "\n",
    "Follow up: Can you solve the problem in O(1) extra space complexity? (The output array does not count as extra space for space complexity analysis.)\n",
    "\n",
    "https://leetcode.com/problems/product-of-array-except-self/\n",
    "https://www.youtube.com/watch?v=bNvIQI2wAjk\n"
   ]
  },
  {
   "cell_type": "code",
   "execution_count": null,
   "id": "6d58d1f7",
   "metadata": {},
   "outputs": [],
   "source": []
  }
 ],
 "metadata": {
  "kernelspec": {
   "display_name": "Python 3 (ipykernel)",
   "language": "python",
   "name": "python3"
  },
  "language_info": {
   "codemirror_mode": {
    "name": "ipython",
    "version": 3
   },
   "file_extension": ".py",
   "mimetype": "text/x-python",
   "name": "python",
   "nbconvert_exporter": "python",
   "pygments_lexer": "ipython3",
   "version": "3.9.12"
  }
 },
 "nbformat": 4,
 "nbformat_minor": 5
}
