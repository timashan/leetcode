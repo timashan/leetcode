{
 "cells": [
  {
   "cell_type": "markdown",
   "id": "ba81f923",
   "metadata": {},
   "source": [
    "# Product Of Array Except Self\n",
    "\n",
    "[leetcode](https://leetcode.com/problems/product-of-array-except-self/) [neetcode](https://neetcode.io/problems/products-of-array-discluding-self)\n",
    "\n",
    "Given an integer array `nums`, return an array `answer` such that `answer[i]` is equal to the product of all the elements of `nums` except `nums[i]`.\n",
    "\n",
    "The product of any prefix or suffix of `nums` is guaranteed to fit in a 32-bit integer.\n",
    "\n",
    "You must write an algorithm that runs in `O(n)` time and without using the division operation.\n",
    "\n",
    "Example 1:\n",
    "\n",
    "```bash\n",
    "Input: nums = [1,2,3,4]\n",
    "Output: [24,12,8,6]\n",
    "```\n",
    "\n",
    "Example 2:\n",
    "\n",
    "```bash\n",
    "Input: nums = [-1,1,0,-3,3]\n",
    "Output: [0,0,9,0,0]\n",
    "```\n",
    "\n",
    "### Constraints:\n",
    "\n",
    "- `2 <= nums.length <= 105`\n",
    "- `-30 <= nums[i] <= 30`\n",
    "- The product of any prefix or suffix of `nums` is guaranteed to fit in a 32-bit integer.\n",
    "\n",
    "Follow up: Can you solve the problem in `O(1)` extra space complexity? (The output array does not count as extra space for space complexity analysis.)\n"
   ]
  },
  {
   "cell_type": "code",
   "execution_count": null,
   "id": "f0345070",
   "metadata": {},
   "outputs": [],
   "source": [
    "def isValid():\n",
    "    return all(\n",
    "        [\n",
    "            productExceptSelf([1, 2, 3, 4]) == [24, 12, 8, 6],\n",
    "            productExceptSelf([-1, 1, 0, -3, 3]) == [0, 0, 9, 0, 0],\n",
    "            productExceptSelf([0, 0]) == [0, 0],\n",
    "        ]\n",
    "    )"
   ]
  },
  {
   "cell_type": "markdown",
   "id": "d8d37eeb",
   "metadata": {},
   "source": [
    "## Naive\n",
    "\n",
    "logic: ✔️\\\n",
    "Fails: due time limit exceeding\n"
   ]
  },
  {
   "cell_type": "code",
   "execution_count": null,
   "id": "6d58d1f7",
   "metadata": {},
   "outputs": [],
   "source": [
    "import operator\n",
    "from functools import reduce\n",
    "\n",
    "\n",
    "def productExceptSelf(nums: list[int]) -> list[int]:\n",
    "    prod = lambda x: reduce(operator.mul, x, 1)\n",
    "    out = [\n",
    "        prod([n for i2, n in enumerate(nums) if i2 != i]) for i, _ in enumerate(nums)\n",
    "    ]\n",
    "    return out\n",
    "\n",
    "\n",
    "isValid()"
   ]
  },
  {
   "cell_type": "code",
   "execution_count": null,
   "id": "7940a394",
   "metadata": {},
   "outputs": [],
   "source": [
    "def productExceptSelf(nums: list[int]) -> list[int]:\n",
    "    tot = 1\n",
    "    tot_no_zero = 1\n",
    "    zeros_count = 0\n",
    "    for n in nums:\n",
    "        tot *= n\n",
    "\n",
    "        if n != 0:\n",
    "            tot_no_zero *= n\n",
    "\n",
    "        if n == 0:\n",
    "            zeros_count += 1\n",
    "\n",
    "        if zeros_count >= 2:\n",
    "            return [0 for _ in range(0, len(nums))]\n",
    "\n",
    "    return [tot_no_zero if n == 0 else int(tot / n) for n in nums]\n",
    "\n",
    "\n",
    "isValid()"
   ]
  }
 ],
 "metadata": {
  "kernelspec": {
   "display_name": "Python 3 (ipykernel)",
   "language": "python",
   "name": "python3"
  },
  "language_info": {
   "codemirror_mode": {
    "name": "ipython",
    "version": 3
   },
   "file_extension": ".py",
   "mimetype": "text/x-python",
   "name": "python",
   "nbconvert_exporter": "python",
   "pygments_lexer": "ipython3",
   "version": "3.11.5"
  }
 },
 "nbformat": 4,
 "nbformat_minor": 5
}
