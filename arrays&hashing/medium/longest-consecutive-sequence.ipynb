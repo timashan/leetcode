{
 "cells": [
  {
   "cell_type": "markdown",
   "metadata": {},
   "source": [
    "# Longest Consecutive Sequence\n",
    "\n",
    "[leetcode](https://leetcode.com/problems/longest-consecutive-sequence/) [neetcode](https://neetcode.io/problems/longest-consecutive-sequence)\n",
    "\n",
    "Given an unsorted array of integers `nums`, return the length of the longest consecutive elements sequence.\n",
    "\n",
    "You must write an algorithm that runs in `O(n)` time.\n",
    "\n",
    "Example 1:\n",
    "\n",
    "```bash\n",
    "Input: nums = [100,4,200,1,3,2]\n",
    "Output: 4\n",
    "Explanation: The longest consecutive elements sequence is [1, 2, 3, 4]. Therefore its length is 4.\n",
    "```\n",
    "\n",
    "Example 2:\n",
    "\n",
    "```bash\n",
    "Input: nums = [0,3,7,2,5,8,4,6,0,1]\n",
    "Output: 9\n",
    "```\n",
    "\n",
    "### Constraints:\n",
    "\n",
    "- `0 <= nums.length <= 105`\n",
    "- `-109 <= nums[i] <= 109`\n"
   ]
  },
  {
   "cell_type": "code",
   "execution_count": null,
   "metadata": {},
   "outputs": [],
   "source": [
    "def isValid():\n",
    "    return all(\n",
    "        [\n",
    "            longestConsecutive([100, 4, 200, 1, 3, 2]) == 4,\n",
    "            longestConsecutive([9, 1, 4, 7, 3, -1, 0, 5, 8, -1, 6]) == 7,\n",
    "            longestConsecutive([0]) == 1,\n",
    "            longestConsecutive([]) == 0,\n",
    "            longestConsecutive([1, 2, 0, 1]),\n",
    "        ]\n",
    "    )"
   ]
  },
  {
   "cell_type": "code",
   "execution_count": null,
   "metadata": {},
   "outputs": [
    {
     "data": {
      "text/plain": [
       "True"
      ]
     },
     "execution_count": null,
     "metadata": {},
     "output_type": "execute_result"
    }
   ],
   "source": [
    "def longestConsecutive(nums: list[int]) -> int:\n",
    "    if len(nums) == 1:\n",
    "        return 1\n",
    "\n",
    "    nums = sorted(nums)\n",
    "    seq_list = []\n",
    "\n",
    "    out = 0\n",
    "    for i, b in enumerate(nums[1:]):\n",
    "        if out == 0:\n",
    "            out = 1\n",
    "\n",
    "        a = nums[i]\n",
    "        if a + 1 == b:\n",
    "            out += 1\n",
    "        elif a == b:\n",
    "            continue\n",
    "        else:\n",
    "            seq_list.append(out)\n",
    "            out = 0\n",
    "    seq_list.append(out)\n",
    "\n",
    "    out = max(seq_list)\n",
    "    return out\n",
    "\n",
    "\n",
    "isValid()"
   ]
  }
 ],
 "metadata": {
  "kernelspec": {
   "display_name": "Python 3",
   "language": "python",
   "name": "python3"
  },
  "language_info": {
   "codemirror_mode": {
    "name": "ipython",
    "version": 3
   },
   "file_extension": ".py",
   "mimetype": "text/x-python",
   "name": "python",
   "nbconvert_exporter": "python",
   "pygments_lexer": "ipython3",
   "version": "3.11.5"
  }
 },
 "nbformat": 4,
 "nbformat_minor": 2
}
