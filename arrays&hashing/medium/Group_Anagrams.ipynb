{
 "cells": [
  {
   "cell_type": "markdown",
   "id": "a7fe85fa",
   "metadata": {},
   "source": [
    "Given an array of strings strs, group the anagrams together. You can return the answer in any order.\n",
    "\n",
    "An Anagram is a word or phrase formed by rearranging the letters of a different word or phrase, typically using all the original letters exactly once.\n",
    "\n",
    " \n",
    "\n",
    "Example 1:\n",
    "> Input: strs = [\"eat\",\"tea\",\"tan\",\"ate\",\"nat\",\"bat\"]\\\n",
    "Output: [[\"bat\"],[\"nat\",\"tan\"],[\"ate\",\"eat\",\"tea\"]]\n",
    "\n",
    "Example 2:\n",
    "> Input: strs = [\"\"]\\\n",
    "Output: [[\"\"]]\n",
    "\n",
    "Example 3:\n",
    "> Input: strs = [\"a\"]\\\n",
    "Output: [[\"a\"]]\n",
    " \n",
    "\n",
    "Constraints:\n",
    "\n",
    "1 <= strs.length <= 104\\\n",
    "0 <= strs[i].length <= 100\\\n",
    "strs[i] consists of lowercase English letters.\n",
    "\n",
    "https://leetcode.com/problems/group-anagrams \\\n",
    "https://www.youtube.com/watch?v=vzdNOK2oB2E"
   ]
  },
  {
   "cell_type": "code",
   "execution_count": 56,
   "id": "42915a44",
   "metadata": {},
   "outputs": [],
   "source": [
    "from typing import List\n",
    "from collections import defaultdict\n",
    "\n",
    "strs = [\"eat\",\"tea\",\"tan\",\"ate\",\"nat\",\"bat\"]"
   ]
  },
  {
   "cell_type": "code",
   "execution_count": 100,
   "id": "79fa1f49",
   "metadata": {},
   "outputs": [
    {
     "data": {
      "text/plain": [
       "dict_values([['eat', 'tea', 'ate'], ['tan', 'nat'], ['bat']])"
      ]
     },
     "execution_count": 100,
     "metadata": {},
     "output_type": "execute_result"
    }
   ],
   "source": [
    "# time: O(m*n), n=len\n",
    "def group_anagrams(strs:List[str]) -> List[List[str]]:\n",
    "    res = defaultdict(list)\n",
    "    \n",
    "    for s in strs:\n",
    "        count = [0] * 26\n",
    "        \n",
    "        for c in s:\n",
    "            count[ord(c) - ord('a')] =+ 1\n",
    "            \n",
    "        res[tuple(count)].append(s)\n",
    "    \n",
    "    return res.values()\n",
    "\n",
    "group_anagrams(strs)"
   ]
  },
  {
   "cell_type": "code",
   "execution_count": 105,
   "id": "527c316b",
   "metadata": {},
   "outputs": [
    {
     "data": {
      "text/plain": [
       "dict_values([['eat', 'tea', 'ate'], ['tan', 'nat'], ['bat']])"
      ]
     },
     "execution_count": 105,
     "metadata": {},
     "output_type": "execute_result"
    }
   ],
   "source": [
    "# by sorting\n",
    "# time: O(m.nlogn)\n",
    "def group_anagrams(strs:List[str]) -> List[List[str]]:\n",
    "    res = defaultdict(list)\n",
    "    \n",
    "    for s in strs:\n",
    "        res[tuple((sorted(s)))].append(s)\n",
    "        \n",
    "    return res.values()\n",
    "    \n",
    "group_anagrams(strs)"
   ]
  }
 ],
 "metadata": {
  "kernelspec": {
   "display_name": "Python 3 (ipykernel)",
   "language": "python",
   "name": "python3"
  },
  "language_info": {
   "codemirror_mode": {
    "name": "ipython",
    "version": 3
   },
   "file_extension": ".py",
   "mimetype": "text/x-python",
   "name": "python",
   "nbconvert_exporter": "python",
   "pygments_lexer": "ipython3",
   "version": "3.9.12"
  }
 },
 "nbformat": 4,
 "nbformat_minor": 5
}
