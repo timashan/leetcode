{
 "cells": [
  {
   "cell_type": "markdown",
   "id": "65defcf4",
   "metadata": {},
   "source": [
    "# Valid Sudoku\n",
    "\n",
    "[leetcode](https://leetcode.com/problems/valid-sudoku/) [neetcode](https://neetcode.io/problems/valid-sudoku)\n",
    "\n",
    "Determine if a `9 x 9` Sudoku board is valid. Only the filled cells need to be validated **according to the following rules**:\n",
    "\n",
    "- Each row must contain the digits `1-9` without repetition.\n",
    "- Each column must contain the digits `1-9` without repetition.\n",
    "- Each of the nine `3 x 3` sub-boxes of the grid must contain the digits `1-9` without repetition.\n",
    "\n",
    "### Note:\n",
    "\n",
    "- A Sudoku board (partially filled) could be valid but is not necessarily solvable.\n",
    "- Only the filled cells need to be validated according to the mentioned rules.\n",
    "\n",
    "Example 1:\\\n",
    "![image](../../assets/valid-sudoku.png)\n",
    "\n",
    "```bash\n",
    "Input: board =\n",
    "[[\"5\",\"3\",\".\",\".\",\"7\",\".\",\".\",\".\",\".\"]\n",
    ",[\"6\",\".\",\".\",\"1\",\"9\",\"5\",\".\",\".\",\".\"]\n",
    ",[\".\",\"9\",\"8\",\".\",\".\",\".\",\".\",\"6\",\".\"]\n",
    ",[\"8\",\".\",\".\",\".\",\"6\",\".\",\".\",\".\",\"3\"]\n",
    ",[\"4\",\".\",\".\",\"8\",\".\",\"3\",\".\",\".\",\"1\"]\n",
    ",[\"7\",\".\",\".\",\".\",\"2\",\".\",\".\",\".\",\"6\"]\n",
    ",[\".\",\"6\",\".\",\".\",\".\",\".\",\"2\",\"8\",\".\"]\n",
    ",[\".\",\".\",\".\",\"4\",\"1\",\"9\",\".\",\".\",\"5\"]\n",
    ",[\".\",\".\",\".\",\".\",\"8\",\".\",\".\",\"7\",\"9\"]]\n",
    "Output: true\n",
    "```\n",
    "\n",
    "Example 2:\n",
    "\n",
    "```bash\n",
    "Input: board =\n",
    "[[\"8\",\"3\",\".\",\".\",\"7\",\".\",\".\",\".\",\".\"]\n",
    ",[\"6\",\".\",\".\",\"1\",\"9\",\"5\",\".\",\".\",\".\"]\n",
    ",[\".\",\"9\",\"8\",\".\",\".\",\".\",\".\",\"6\",\".\"]\n",
    ",[\"8\",\".\",\".\",\".\",\"6\",\".\",\".\",\".\",\"3\"]\n",
    ",[\"4\",\".\",\".\",\"8\",\".\",\"3\",\".\",\".\",\"1\"]\n",
    ",[\"7\",\".\",\".\",\".\",\"2\",\".\",\".\",\".\",\"6\"]\n",
    ",[\".\",\"6\",\".\",\".\",\".\",\".\",\"2\",\"8\",\".\"]\n",
    ",[\".\",\".\",\".\",\"4\",\"1\",\"9\",\".\",\".\",\"5\"]\n",
    ",[\".\",\".\",\".\",\".\",\"8\",\".\",\".\",\"7\",\"9\"]]\n",
    "Output: false\n",
    "```\n",
    "\n",
    "Explanation: Same as Example 1, except with the **5** in the top left corner being modified to **8**. Since there are two 8's in the top left 3x3 sub-box, it is invalid.\n",
    "\n",
    "### Constraints:\n",
    "\n",
    "- `board.length == 9`\n",
    "- `board[i].length == 9`\n",
    "- `board[i][j]` is a digit `1-9` or `'.'`.\n"
   ]
  },
  {
   "cell_type": "code",
   "execution_count": null,
   "id": "d9295a5b",
   "metadata": {},
   "outputs": [],
   "source": [
    "board = [\n",
    "    [\"5\", \"3\", \".\", \".\", \"7\", \".\", \".\", \".\", \".\"],\n",
    "    [\"6\", \".\", \".\", \"1\", \"9\", \"5\", \".\", \".\", \".\"],\n",
    "    [\".\", \"9\", \"8\", \".\", \".\", \".\", \".\", \"6\", \".\"],\n",
    "    [\"8\", \".\", \".\", \".\", \"6\", \".\", \".\", \".\", \"3\"],\n",
    "    [\"4\", \".\", \".\", \"8\", \".\", \"3\", \".\", \".\", \"1\"],\n",
    "    [\"7\", \".\", \".\", \".\", \"2\", \".\", \".\", \".\", \"6\"],\n",
    "    [\".\", \"6\", \".\", \".\", \".\", \".\", \"2\", \"8\", \".\"],\n",
    "    [\".\", \".\", \".\", \"4\", \"1\", \"9\", \".\", \".\", \"5\"],\n",
    "    [\".\", \".\", \".\", \".\", \"8\", \".\", \".\", \"7\", \"9\"],\n",
    "]"
   ]
  },
  {
   "cell_type": "code",
   "execution_count": null,
   "id": "9d636ddf",
   "metadata": {},
   "outputs": [],
   "source": [
    "bug_board = [\n",
    "    [\".\", \".\", \"4\", \".\", \".\", \".\", \"6\", \"3\", \".\"],\n",
    "    [\".\", \".\", \".\", \".\", \".\", \".\", \".\", \".\", \".\"],\n",
    "    [\"5\", \".\", \".\", \".\", \".\", \".\", \".\", \"9\", \".\"],\n",
    "    [\".\", \".\", \".\", \"5\", \"6\", \".\", \".\", \".\", \".\"],\n",
    "    [\"4\", \".\", \"3\", \".\", \".\", \".\", \".\", \".\", \"1\"],\n",
    "    [\".\", \".\", \".\", \"7\", \".\", \".\", \".\", \".\", \".\"],\n",
    "    [\".\", \".\", \".\", \"5\", \".\", \".\", \".\", \".\", \".\"],\n",
    "    [\".\", \".\", \".\", \".\", \".\", \".\", \".\", \".\", \".\"],\n",
    "    [\".\", \".\", \".\", \".\", \".\", \".\", \".\", \".\", \".\"],\n",
    "]"
   ]
  },
  {
   "cell_type": "code",
   "execution_count": null,
   "id": "22ca219f",
   "metadata": {},
   "outputs": [],
   "source": [
    "def isValid():\n",
    "    return all([isValidSudoku(board) == True, isValidSudoku(bug_board) == False])"
   ]
  },
  {
   "cell_type": "code",
   "execution_count": null,
   "id": "dbc9eed9",
   "metadata": {},
   "outputs": [
    {
     "data": {
      "text/plain": [
       "True"
      ]
     },
     "execution_count": null,
     "metadata": {},
     "output_type": "execute_result"
    }
   ],
   "source": [
    "def isValidSudoku(board: list[list[str]]) -> bool:\n",
    "    board_T = []\n",
    "    subgrid = []\n",
    "\n",
    "    a, b, c = [], [], []\n",
    "    for i, r in enumerate(board[:]):\n",
    "\n",
    "        board_T.append([board[c][i] for c in range(0, 9)])\n",
    "\n",
    "        divider = (i + 1) % 3 == 0\n",
    "        a.extend(r[:3])\n",
    "        b.extend(r[3:6])\n",
    "        c.extend(r[6:9])\n",
    "        if divider:\n",
    "            subgrid.append(a)\n",
    "            subgrid.append(b)\n",
    "            subgrid.append(c)\n",
    "            a, b, c = [], [], []\n",
    "\n",
    "    for r in board[:]:\n",
    "        r = [n for n in r if n != \".\"]\n",
    "        # while \".\" in r:\n",
    "        #     r.remove(\".\")\n",
    "        if not sorted(r) == sorted(set(r)):\n",
    "            return False\n",
    "\n",
    "    for c in board_T[:]:\n",
    "        c = [n for n in c if n != \".\"]\n",
    "        if not sorted(c) == sorted(set(c)):\n",
    "            return False\n",
    "\n",
    "    for s in subgrid[:]:\n",
    "        subgrid_repeat = set()\n",
    "\n",
    "        for i, c in enumerate(s):\n",
    "            is_numeric = c.isnumeric()\n",
    "            if is_numeric:\n",
    "                n = int(c)\n",
    "\n",
    "                if not (n >= 1 and n <= 10):\n",
    "                    return False\n",
    "\n",
    "                if n in subgrid_repeat:\n",
    "                    return False\n",
    "                subgrid_repeat.add(n)\n",
    "    return True\n",
    "\n",
    "\n",
    "isValid()"
   ]
  }
 ],
 "metadata": {
  "kernelspec": {
   "display_name": "Python 3 (ipykernel)",
   "language": "python",
   "name": "python3"
  },
  "language_info": {
   "codemirror_mode": {
    "name": "ipython",
    "version": 3
   },
   "file_extension": ".py",
   "mimetype": "text/x-python",
   "name": "python",
   "nbconvert_exporter": "python",
   "pygments_lexer": "ipython3",
   "version": "3.11.5"
  }
 },
 "nbformat": 4,
 "nbformat_minor": 5
}
