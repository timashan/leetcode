{
 "cells": [
  {
   "cell_type": "markdown",
   "id": "a7fe85fa",
   "metadata": {},
   "source": [
    "Given an array of strings strs, group the anagrams together. You can return the answer in any order.\n",
    "\n",
    "An Anagram is a word or phrase formed by rearranging the letters of a different word or phrase, typically using all the original letters exactly once.\n",
    "\n",
    "Example 1:\n",
    "\n",
    "```bash\n",
    "Input: strs = [\"eat\",\"tea\",\"tan\",\"ate\",\"nat\",\"bat\"]\n",
    "Output: [[\"bat\"],[\"nat\",\"tan\"],[\"ate\",\"eat\",\"tea\"]]\n",
    "```\n",
    "\n",
    "Example 2:\n",
    "\n",
    "```bash\n",
    "Input: strs = [\"\"]\n",
    "Output: [[\"\"]]\n",
    "```\n",
    "\n",
    "Example 3:\n",
    "\n",
    "```bash\n",
    "Input: strs = [\"a\"]\n",
    "Output: [[\"a\"]]\n",
    "```\n",
    "\n",
    "Constraints:\n",
    "\n",
    "1 <= strs.length <= 104\\\n",
    "0 <= strs[i].length <= 100\\\n",
    "strs[i] consists of lowercase English letters.\n",
    "\n",
    "https://leetcode.com/problems/group-anagrams \\\n",
    "https://www.youtube.com/watch?v=vzdNOK2oB2E\n"
   ]
  },
  {
   "cell_type": "code",
   "execution_count": null,
   "id": "42915a44",
   "metadata": {},
   "outputs": [],
   "source": [
    "from typing import List\n",
    "from collections import defaultdict\n",
    "\n",
    "strs = [\"eat\", \"tea\", \"tan\", \"ate\", \"nat\", \"bat\"]\n",
    "out = [[\"eat\", \"tea\", \"ate\"], [\"tan\", \"nat\"], [\"bat\"]]"
   ]
  },
  {
   "cell_type": "code",
   "execution_count": null,
   "id": "79fa1f49",
   "metadata": {},
   "outputs": [],
   "source": [
    "# time: O(m*n), n=len\n",
    "def group_anagrams(strs: List[str]) -> List[List[str]]:\n",
    "    res = defaultdict(list)\n",
    "\n",
    "    for s in strs:\n",
    "        count = [0] * 26\n",
    "\n",
    "        for c in s:\n",
    "            count[ord(c) - ord(\"a\")] = +1\n",
    "\n",
    "        res[tuple(count)].append(s)\n",
    "\n",
    "    return list(res.values())\n",
    "\n",
    "\n",
    "group_anagrams(strs) == out"
   ]
  },
  {
   "cell_type": "code",
   "execution_count": null,
   "id": "527c316b",
   "metadata": {},
   "outputs": [],
   "source": [
    "# by sorting\n",
    "# time: O(m.nlogn)\n",
    "def group_anagrams(strs: List[str]) -> List[List[str]]:\n",
    "    res = defaultdict(list)\n",
    "\n",
    "    for s in strs:\n",
    "        res[tuple((sorted(s)))].append(s)\n",
    "\n",
    "    return list(res.values())\n",
    "\n",
    "\n",
    "group_anagrams(strs) == out"
   ]
  }
 ],
 "metadata": {
  "kernelspec": {
   "display_name": "Python 3 (ipykernel)",
   "language": "python",
   "name": "python3"
  },
  "language_info": {
   "codemirror_mode": {
    "name": "ipython",
    "version": 3
   },
   "file_extension": ".py",
   "mimetype": "text/x-python",
   "name": "python",
   "nbconvert_exporter": "python",
   "pygments_lexer": "ipython3",
   "version": "3.11.5"
  }
 },
 "nbformat": 4,
 "nbformat_minor": 5
}
