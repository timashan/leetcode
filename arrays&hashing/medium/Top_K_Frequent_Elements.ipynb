{
 "cells": [
  {
   "cell_type": "markdown",
   "id": "655ed594",
   "metadata": {},
   "source": [
    "Given an integer array nums and an integer k, return the k most frequent elements. You may return the answer in any order.\n",
    "\n",
    "Example 1:\n",
    "\n",
    "> Input: nums = [1,1,1,2,2,3], k = 2\\\n",
    "> Output: [1,2]\n",
    "\n",
    "Example 2:\n",
    "\n",
    "> Input: nums = [1], k = 1\\\n",
    "> Output: [1]\n",
    "\n",
    "Constraints:\n",
    "\n",
    "1 <= nums.length <= 105\\\n",
    "-104 <= nums[i] <= 104\\\n",
    "k is in the range [1, the number of unique elements in the array].\\\n",
    "It is guaranteed that the answer is unique.\n",
    "\n",
    "Follow up: Your algorithm's time complexity must be better than O(n log n), where n is the array's size.\n",
    "\n",
    "https://leetcode.com/problems/top-k-frequent-elements \\\n",
    "https://www.youtube.com/watch?v=YPTqKIgVk-k\n"
   ]
  },
  {
   "cell_type": "code",
   "execution_count": 1,
   "id": "0716ccd4",
   "metadata": {},
   "outputs": [],
   "source": [
    "from typing import List\n",
    "import heapq\n",
    "from collections import Counter\n",
    "\n",
    "nums = [1, 1, 1, 2, 2, 3]\n",
    "k = 2\n",
    "out = [1, 2]"
   ]
  },
  {
   "cell_type": "code",
   "execution_count": 2,
   "id": "b48e1aae",
   "metadata": {},
   "outputs": [
    {
     "data": {
      "text/plain": [
       "True"
      ]
     },
     "execution_count": 2,
     "metadata": {},
     "output_type": "execute_result"
    }
   ],
   "source": [
    "# bucket sort\n",
    "# time O(n)\n",
    "def top_k_frequent(nums: List[int], k: int) -> List[int]:\n",
    "    count = {}\n",
    "    freq = [[] for i in range(len(nums) + 1)]\n",
    "    req = []\n",
    "\n",
    "    for n in nums:\n",
    "        count[n] = 1 + count.get(n, 0)\n",
    "\n",
    "    for n, c in count.items():\n",
    "        freq[c].append(n)\n",
    "\n",
    "    for i in range(len(freq) - 1, 0, -1):\n",
    "        for n in freq[i]:\n",
    "            req.append(n)\n",
    "            if len(req) == k:\n",
    "                return req\n",
    "\n",
    "\n",
    "top_k_frequent(nums, k) == out"
   ]
  },
  {
   "cell_type": "code",
   "execution_count": 3,
   "id": "f472bd82",
   "metadata": {},
   "outputs": [
    {
     "data": {
      "text/plain": [
       "True"
      ]
     },
     "execution_count": 3,
     "metadata": {},
     "output_type": "execute_result"
    }
   ],
   "source": [
    "# sort\n",
    "# time: nlogn\n",
    "def top_k_frequent(nums: List[int], k: int) -> List[int]:\n",
    "    count = {}\n",
    "\n",
    "    for n in nums:\n",
    "        count[n] = 1 + count.get(n, 0)\n",
    "\n",
    "    sorted_ = dict(sorted(count.items(), key=lambda x: x[1], reverse=True))\n",
    "    return list(sorted_.keys())[:k]\n",
    "\n",
    "\n",
    "top_k_frequent(nums, k) == out"
   ]
  },
  {
   "cell_type": "code",
   "execution_count": 4,
   "id": "50fdcafb",
   "metadata": {},
   "outputs": [
    {
     "data": {
      "text/plain": [
       "True"
      ]
     },
     "execution_count": 4,
     "metadata": {},
     "output_type": "execute_result"
    }
   ],
   "source": [
    "# heap\n",
    "# time: klogn\n",
    "def top_k_frequent(nums: List[int], k: int) -> List[int]:\n",
    "    count = Counter(nums)\n",
    "    return heapq.nlargest(k, count.keys(), key=count.get)\n",
    "\n",
    "\n",
    "top_k_frequent(nums, k) == out"
   ]
  }
 ],
 "metadata": {
  "kernelspec": {
   "display_name": "Python 3 (ipykernel)",
   "language": "python",
   "name": "python3"
  },
  "language_info": {
   "codemirror_mode": {
    "name": "ipython",
    "version": 3
   },
   "file_extension": ".py",
   "mimetype": "text/x-python",
   "name": "python",
   "nbconvert_exporter": "python",
   "pygments_lexer": "ipython3",
   "version": "3.11.5"
  }
 },
 "nbformat": 4,
 "nbformat_minor": 5
}
