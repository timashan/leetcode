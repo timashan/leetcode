{
 "cells": [
  {
   "cell_type": "markdown",
   "metadata": {},
   "source": [
    "# String Encode and Decode\n",
    "\n",
    "[leetcode(🔒)](https://leetcode.com/problems/encode-and-decode-strings/) [neetcode](https://neetcode.io/problems/string-encode-and-decode)\n",
    "\n",
    "Design an algorithm to encode a list of strings to a single string. The encoded string is then decoded back to the original list of strings.\n",
    "\n",
    "Please implement `encode` and `decode`\n",
    "\n",
    "Example 1:\n",
    "\n",
    "```bash\n",
    "Input: [\"neet\",\"code\",\"love\",\"you\"]\n",
    "\n",
    "Output: [\"neet\",\"code\",\"love\",\"you\"]\n",
    "```\n",
    "\n",
    "Example 2:\n",
    "\n",
    "```bash\n",
    "Input: [\"we\",\"say\",\":\",\"yes\"]\n",
    "\n",
    "Output: [\"we\",\"say\",\":\",\"yes\"]\n",
    "```\n",
    "\n",
    "### Constraints:\n",
    "\n",
    "- `0 <= strs.length < 100`\n",
    "- `0 <= strs[i].length < 200`\n",
    "- `strs[i]` contains only UTF-8 characters.\n"
   ]
  },
  {
   "cell_type": "markdown",
   "metadata": {},
   "source": [
    "## Validate\n"
   ]
  },
  {
   "cell_type": "code",
   "execution_count": null,
   "metadata": {},
   "outputs": [],
   "source": [
    "def isValid():\n",
    "    return all(\n",
    "        [\n",
    "            # decode(encode([\"leet\"])) == [\"leet\"],\n",
    "            decode(encode([\"leet\", \"code\", \"love\", \"you\"]))\n",
    "            == [\"leet\", \"code\", \"love\", \"you\"],\n",
    "            decode(encode([])) == [],\n",
    "            decode(encode([\"\"])) == [\"\"],\n",
    "        ]\n",
    "    )"
   ]
  },
  {
   "cell_type": "markdown",
   "metadata": {},
   "source": [
    "## Naive\n"
   ]
  },
  {
   "cell_type": "code",
   "execution_count": null,
   "metadata": {},
   "outputs": [],
   "source": [
    "def encode(strs: list[str]) -> str:\n",
    "    if not len(strs):\n",
    "        return \"+/+\"\n",
    "    return \"+/+\".join(strs)\n",
    "\n",
    "\n",
    "def decode(s: str) -> list[str]:\n",
    "    if s == \"+/+\":\n",
    "        return []\n",
    "    return s.split(\"+/+\")\n",
    "\n",
    "\n",
    "isValid()"
   ]
  },
  {
   "cell_type": "code",
   "execution_count": null,
   "metadata": {},
   "outputs": [],
   "source": [
    "import re\n",
    "\n",
    "\n",
    "def encode(strs: list[str]) -> str:\n",
    "    strs = [str(len(s)) + \"#\" + s for s in strs]\n",
    "    return \"\".join(strs)\n",
    "\n",
    "\n",
    "def decode(s: str) -> list[str]:\n",
    "    out = []\n",
    "    while True:\n",
    "        found = re.search(r\"\\d*#\", s)\n",
    "        if not found:\n",
    "            return out\n",
    "        k = found.group()\n",
    "        s = s[len(k) :]\n",
    "        k = int(k[:-1])\n",
    "        out.append(s[:k])\n",
    "        s = s[k:]\n",
    "\n",
    "\n",
    "isValid()"
   ]
  }
 ],
 "metadata": {
  "kernelspec": {
   "display_name": "Python 3",
   "language": "python",
   "name": "python3"
  },
  "language_info": {
   "codemirror_mode": {
    "name": "ipython",
    "version": 3
   },
   "file_extension": ".py",
   "mimetype": "text/x-python",
   "name": "python",
   "nbconvert_exporter": "python",
   "pygments_lexer": "ipython3",
   "version": "3.11.5"
  }
 },
 "nbformat": 4,
 "nbformat_minor": 2
}
