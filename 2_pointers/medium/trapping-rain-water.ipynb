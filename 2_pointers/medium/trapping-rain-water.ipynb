{
 "cells": [
  {
   "cell_type": "markdown",
   "metadata": {},
   "source": [
    "# Trapping Rain Water\n",
    "\n",
    "[leetcode](https://leetcode.com/problems/trapping-rain-water/) [neetcode](https://neetcode.io/problems/trapping-rain-water)\n",
    "\n",
    "Given `n` non-negative integers representing an elevation map where the width of each bar is `1`, compute how much water it can trap after raining.\n",
    "\n",
    "Example 1:\n",
    "\n",
    "![image](../../assets/trapping-rain-water.png)\n",
    "\n",
    "```bash\n",
    "Input: height = [0,1,0,2,1,0,1,3,2,1,2,1]\n",
    "Output: 6\n",
    "Explanation: The above elevation map (black section) is represented by array [0,1,0,2,1,0,1,3,2,1,2,1]. In this case, 6 units of rain water (blue section) are being trapped.\n",
    "```\n",
    "\n",
    "Example 2:\n",
    "\n",
    "```bash\n",
    "Input: height = [4,2,0,3,2,5]\n",
    "Output: 9\n",
    "```\n",
    "\n",
    "### Constraints:\n",
    "\n",
    "- `n == height.length`\n",
    "- `1 <= n <= 2 \\* 104`\n",
    "- `0 <= height[i] <= 105`\n"
   ]
  },
  {
   "cell_type": "code",
   "execution_count": null,
   "metadata": {},
   "outputs": [],
   "source": [
    "height = [0, 1, 0, 2, 1, 0, 1, 3, 2, 1, 2, 1]\n",
    "out = 6"
   ]
  },
  {
   "cell_type": "code",
   "execution_count": null,
   "metadata": {},
   "outputs": [],
   "source": [
    "def trap(height: list[int]) -> int:\n",
    "    pass\n",
    "\n",
    "\n",
    "trap(height)"
   ]
  }
 ],
 "metadata": {
  "language_info": {
   "name": "python"
  }
 },
 "nbformat": 4,
 "nbformat_minor": 2
}
