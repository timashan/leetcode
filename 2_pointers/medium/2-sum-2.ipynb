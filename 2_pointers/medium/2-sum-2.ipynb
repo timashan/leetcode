{
 "cells": [
  {
   "cell_type": "markdown",
   "metadata": {},
   "source": [
    "# Two Sum II - Input Array Is Sorted\n",
    "\n",
    "[leetcode](https://leetcode.com/problems/two-sum-ii-input-array-is-sorted/description/) [neetcode](https://neetcode.io/problems/two-integer-sum-ii)\n",
    "\n",
    "Given a 1-indexed array of integers `numbers` that is already sorted in non-decreasing order, find two numbers such that they add up to a specific `target` number. Let these two numbers be `numbers[index1]` and `numbers[index2]` where `1 <= index1 < index2 <= numbers.length`.\n",
    "\n",
    "Return the indices of the two numbers, `index1` and `index2`, **added by one** as an integer array [index1, index2] of length 2.\n",
    "\n",
    "The tests are generated such that there is **exactly one solution**. You **may not** use the same element twice.\n",
    "\n",
    "Your solution must use only constant extra space.\n",
    "\n",
    "Example 1:\n",
    "\n",
    "```bash\n",
    "Input: numbers = [2,7,11,15], target = 9\n",
    "Output: [1,2]\n",
    "Explanation: The sum of 2 and 7 is 9. Therefore, index1 = 1, index2 = 2. We return [1, 2].\n",
    "```\n",
    "\n",
    "Example 2:\n",
    "\n",
    "```bash\n",
    "Input: numbers = [2,3,4], target = 6\n",
    "Output: [1,3]\n",
    "Explanation: The sum of 2 and 4 is 6. Therefore index1 = 1, index2 = 3. We return [1, 3].\n",
    "```\n",
    "\n",
    "Example 3:\n",
    "\n",
    "```bash\n",
    "Input: numbers = [-1,0], target = -1\n",
    "Output: [1,2]\n",
    "Explanation: The sum of -1 and 0 is -1. Therefore index1 = 1, index2 = 2. We return [1, 2].\n",
    "```\n",
    "\n",
    "### Constraints:\n",
    "\n",
    "- `2 <= numbers.length <= 3 \\* 104`\n",
    "- `-1000 <= numbers[i] <= 1000`\n",
    "- `numbers` is sorted in non-decreasing order.\n",
    "- -1000 <= target <= 1000\n",
    "- The tests are generated such that there is exactly one solution.\n"
   ]
  },
  {
   "cell_type": "code",
   "execution_count": null,
   "metadata": {},
   "outputs": [],
   "source": [
    "numbers = [2, 7, 11, 15]\n",
    "target = 9\n",
    "out = [1, 2]"
   ]
  },
  {
   "cell_type": "markdown",
   "metadata": {},
   "source": [
    "## Naive\n"
   ]
  },
  {
   "cell_type": "code",
   "execution_count": null,
   "metadata": {},
   "outputs": [
    {
     "data": {
      "text/plain": [
       "True"
      ]
     },
     "execution_count": null,
     "metadata": {},
     "output_type": "execute_result"
    }
   ],
   "source": [
    "def twoSum(numbers: list[int], target: int) -> list[int]:\n",
    "    diffs = {n: i + 1 for i, n in enumerate(numbers)}\n",
    "\n",
    "    for i, n in enumerate(numbers):\n",
    "        diff = target - n\n",
    "        if diff in diffs:\n",
    "            return [i + 1, diffs[diff]]\n",
    "\n",
    "\n",
    "twoSum(numbers, target) == out"
   ]
  },
  {
   "cell_type": "code",
   "execution_count": null,
   "metadata": {},
   "outputs": [
    {
     "data": {
      "text/plain": [
       "True"
      ]
     },
     "execution_count": null,
     "metadata": {},
     "output_type": "execute_result"
    }
   ],
   "source": [
    "def twoSum(numbers: list[int], target: int) -> list[int]:\n",
    "    diffs = {}\n",
    "\n",
    "    for i, n in enumerate(numbers):\n",
    "        diff = target - n\n",
    "        if diff in diffs:\n",
    "            return [diffs[diff], i + 1]\n",
    "\n",
    "        diffs[n] = i + 1\n",
    "\n",
    "\n",
    "twoSum(numbers, target) == out"
   ]
  },
  {
   "cell_type": "markdown",
   "metadata": {},
   "source": [
    "# Pointers\n"
   ]
  },
  {
   "cell_type": "code",
   "execution_count": null,
   "metadata": {},
   "outputs": [
    {
     "data": {
      "text/plain": [
       "[1, 2]"
      ]
     },
     "execution_count": null,
     "metadata": {},
     "output_type": "execute_result"
    }
   ],
   "source": [
    "def twoSum(numbers: list[int], target: int) -> list[int]:\n",
    "    a = 0\n",
    "    b = len(numbers) - 1\n",
    "\n",
    "    while b > a:\n",
    "        diff = numbers[a] + numbers[b]\n",
    "        if diff == target:\n",
    "            return [a + 1, b + 1]\n",
    "        if diff > target:\n",
    "            b -= 1\n",
    "        else:\n",
    "            a += 1\n",
    "    return []\n",
    "\n",
    "\n",
    "twoSum(numbers, 9)"
   ]
  }
 ],
 "metadata": {
  "kernelspec": {
   "display_name": "Python 3",
   "language": "python",
   "name": "python3"
  },
  "language_info": {
   "codemirror_mode": {
    "name": "ipython",
    "version": 3
   },
   "file_extension": ".py",
   "mimetype": "text/x-python",
   "name": "python",
   "nbconvert_exporter": "python",
   "pygments_lexer": "ipython3",
   "version": "3.11.5"
  }
 },
 "nbformat": 4,
 "nbformat_minor": 2
}
