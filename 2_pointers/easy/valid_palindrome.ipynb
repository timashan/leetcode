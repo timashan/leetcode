{
 "cells": [
  {
   "cell_type": "markdown",
   "id": "c00c0366",
   "metadata": {},
   "source": [
    "# Valid Palindrome\n",
    "\n",
    "[leetcode](https://leetcode.com/problems/valid-palindrome/) [neetcode](https://neetcode.io/problems/is-palindrome)\n",
    "\n",
    "A phrase is a palindrome if, after converting all uppercase letters into lowercase letters and removing all non-alphanumeric characters, it reads the same forward and backward. Alphanumeric characters include letters and numbers.\n",
    "\n",
    "Given a string s, return true if it is a palindrome, or false otherwise.\n",
    "\n",
    "Example 1:\n",
    "\n",
    "```bash\n",
    "Input: s = \"A man, a plan, a canal: Panama\"\n",
    "Output: true\n",
    "Explanation: \"amanaplanacanalpanama\" is a palindrome.\n",
    "```\n",
    "\n",
    "Example 2:\n",
    "\n",
    "```bash\n",
    "Input: s = \"race a car\"\n",
    "Output: false\n",
    "Explanation: \"raceacar\" is not a palindrome.\n",
    "```\n",
    "\n",
    "Example 3:\n",
    "\n",
    "```bash\n",
    "Input: s = \" \"\n",
    "Output: true\n",
    "Explanation: s is an empty string \"\" after removing non-alphanumeric characters.\n",
    "Since an empty string reads the same forward and backward, it is a palindrome.\n",
    "```\n",
    "\n",
    "Constraints:\n",
    "\n",
    "1 <= s.length <= 2 \\* 105\\\n",
    "s consists only of printable ASCII characters.\n"
   ]
  },
  {
   "cell_type": "code",
   "execution_count": null,
   "id": "c3dc700f",
   "metadata": {},
   "outputs": [],
   "source": [
    "input_ = \"A man, a plan, a canal: Panama\"\n",
    "out = True"
   ]
  },
  {
   "cell_type": "code",
   "execution_count": null,
   "id": "8be1cad4",
   "metadata": {},
   "outputs": [
    {
     "data": {
      "text/plain": [
       "True"
      ]
     },
     "execution_count": null,
     "metadata": {},
     "output_type": "execute_result"
    }
   ],
   "source": [
    "import string\n",
    "\n",
    "\n",
    "def isPalindrome(s: str):\n",
    "    a = s.lower().translate(str.maketrans(\"\", \"\", string.punctuation)).replace(\" \", \"\")\n",
    "    b = a[::-1]\n",
    "    return a == b\n",
    "\n",
    "\n",
    "isPalindrome(input_) == out"
   ]
  },
  {
   "cell_type": "code",
   "execution_count": null,
   "id": "8bb0813d",
   "metadata": {},
   "outputs": [
    {
     "data": {
      "text/plain": [
       "True"
      ]
     },
     "execution_count": null,
     "metadata": {},
     "output_type": "execute_result"
    }
   ],
   "source": [
    "def isPalindrome(s: str):\n",
    "    clean = \"\"\n",
    "    for l in s:\n",
    "        if l.isalpha() or l.isdigit():\n",
    "            clean += l.lower()\n",
    "\n",
    "    return clean == clean[::-1]\n",
    "\n",
    "\n",
    "isPalindrome(input_) == out"
   ]
  }
 ],
 "metadata": {
  "kernelspec": {
   "display_name": "Python 3 (ipykernel)",
   "language": "python",
   "name": "python3"
  },
  "language_info": {
   "codemirror_mode": {
    "name": "ipython",
    "version": 3
   },
   "file_extension": ".py",
   "mimetype": "text/x-python",
   "name": "python",
   "nbconvert_exporter": "python",
   "pygments_lexer": "ipython3",
   "version": "3.11.5"
  }
 },
 "nbformat": 4,
 "nbformat_minor": 5
}
